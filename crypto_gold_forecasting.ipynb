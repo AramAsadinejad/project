{
 "cells": [
  {
   "cell_type": "markdown",
   "id": "91fb0c75",
   "metadata": {},
   "source": [
    "# 📊 Investment Forecasting & Optimization Project\n",
    "\n",
    "## 📌 1. Introduction\n",
    "This notebook forecasts weekly close prices of Bitcoin, Ethereum, and Gold using linear regression."
   ]
  },
  {
   "cell_type": "code",
   "execution_count": null,
   "id": "cabeaac4",
   "metadata": {},
   "outputs": [],
   "source": [
    "## 📦 2. Imports\n",
    "import pandas as pd\n",
    "import numpy as np\n",
    "import matplotlib.pyplot as plt\n",
    "from datetime import datetime"
   ]
  },
  {
   "cell_type": "code",
   "execution_count": null,
   "id": "919f08c1",
   "metadata": {},
   "outputs": [],
   "source": [
    "## 📁 3. Load and Preprocess Data\n",
    "\n",
    "def load_and_prepare_data(filepath):\n",
    "    df = pd.read_csv(filepath)\n",
    "    df = df.rename(columns={\"Price\": \"Date\"})  # Correct column name if needed\n",
    "    df['Date'] = pd.to_datetime(df['Date'])\n",
    "    df = df[['Date', 'Close']].dropna()\n",
    "    df = df.set_index('Date').resample('W-MON').last().reset_index()\n",
    "    return df\n",
    "\n",
    "btc_df = load_and_prepare_data(\"Bitcoin.csv\")\n",
    "eth_df = load_and_prepare_data(\"Ethereum.csv\")\n",
    "gold_df = load_and_prepare_data(\"Gold.csv\")"
   ]
  },
  {
   "cell_type": "code",
   "execution_count": null,
   "id": "bea22545",
   "metadata": {},
   "outputs": [],
   "source": [
    "## 📈 4. Linear Regression Forecasting\n",
    "\n",
    "def linear_regression(X, y):\n",
    "    X_b = np.c_[np.ones((len(X), 1)), X]  # Add bias term\n",
    "    theta = np.linalg.inv(X_b.T @ X_b) @ X_b.T @ y\n",
    "    return theta\n",
    "\n",
    "def predict_next(X, theta):\n",
    "    next_index = np.array([[1, len(X)]])\n",
    "    return float(next_index @ theta)\n",
    "\n",
    "def forecast_asset(df):\n",
    "    X = np.arange(len(df)).reshape(-1, 1)\n",
    "    y = df['Close'].values\n",
    "    theta = linear_regression(X, y)\n",
    "    prediction = predict_next(X, theta)\n",
    "    return prediction, theta\n",
    "\n",
    "btc_pred, _ = forecast_asset(btc_df)\n",
    "eth_pred, _ = forecast_asset(eth_df)\n",
    "gold_pred, _ = forecast_asset(gold_df)\n",
    "\n",
    "print(\"📈 Predicted Next Week Prices:\")\n",
    "print(\"Bitcoin:\", btc_pred)\n",
    "print(\"Ethereum:\", eth_pred)\n",
    "print(\"Gold:\", gold_pred)"
   ]
  },
  {
   "cell_type": "code",
   "execution_count": null,
   "id": "c95b96c1",
   "metadata": {},
   "outputs": [],
   "source": [
    "## 📉 5. Visualizing Asset Prices\n",
    "\n",
    "def plot_prices(df, asset_name):\n",
    "    plt.figure(figsize=(10, 5))\n",
    "    plt.plot(df['Date'], df['Close'], label='Close Price')\n",
    "    plt.title(f'{asset_name} Weekly Close Prices')\n",
    "    plt.xlabel('Date')\n",
    "    plt.ylabel('Price')\n",
    "    plt.grid(True)\n",
    "    plt.legend()\n",
    "    plt.show()\n",
    "\n",
    "plot_prices(btc_df, 'Bitcoin')\n",
    "plot_prices(eth_df, 'Ethereum')\n",
    "plot_prices(gold_df, 'Gold')"
   ]
  },
  {
   "cell_type": "markdown",
   "id": "39bf45e5",
   "metadata": {},
   "source": [
    "## 🔜 6. Next Step: Optimization with MiniZinc\n",
    "Use the predicted prices as input for your investment optimization model.\n",
    "You can define decision variables and constraints in MiniZinc for capital allocation across assets."
   ]
  }
 ],
 "metadata": {},
 "nbformat": 4,
 "nbformat_minor": 5
}