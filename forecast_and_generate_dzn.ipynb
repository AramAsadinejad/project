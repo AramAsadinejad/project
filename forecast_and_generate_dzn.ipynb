{
 "cells": [
  {
   "cell_type": "markdown",
   "id": "d738581d",
   "metadata": {},
   "source": [
    "# 📊 Investment Forecasting & Optimization Project\n",
    "\n",
    "## 📌 1. Introduction\n",
    "Forecast weekly asset prices (Bitcoin, Ethereum, Gold) and generate `.dzn` data file for MiniZinc optimization."
   ]
  },
  {
   "cell_type": "code",
   "execution_count": null,
   "id": "8e283cbb",
   "metadata": {},
   "outputs": [],
   "source": [
    "## 📦 2. Imports\n",
    "import pandas as pd\n",
    "import numpy as np\n",
    "import matplotlib.pyplot as plt\n",
    "from datetime import datetime\n",
    "from pathlib import Path"
   ]
  },
  {
   "cell_type": "code",
   "execution_count": null,
   "id": "d6e86db8",
   "metadata": {},
   "outputs": [],
   "source": [
    "## 📁 3. Load and Preprocess Function\n",
    "\n",
    "def load_and_prepare_data(filepath):\n",
    "    df = pd.read_csv(filepath)\n",
    "    df = df.rename(columns={\"Price\": \"Date\"})  # Correcting date column name\n",
    "    df['Date'] = pd.to_datetime(df['Date'])\n",
    "    df = df[['Date', 'Close']].dropna()\n",
    "    df = df.set_index('Date').resample('W-MON').last().reset_index()\n",
    "    return df"
   ]
  },
  {
   "cell_type": "code",
   "execution_count": null,
   "id": "cd207e56",
   "metadata": {},
   "outputs": [],
   "source": [
    "## 📂 4. Load All Assets\n",
    "btc_df = load_and_prepare_data(\"Bitcoin.csv\")\n",
    "eth_df = load_and_prepare_data(\"Ethereum.csv\")\n",
    "gold_df = load_and_prepare_data(\"Gold.csv\")"
   ]
  },
  {
   "cell_type": "code",
   "execution_count": null,
   "id": "0459d103",
   "metadata": {},
   "outputs": [],
   "source": [
    "## 📈 5. Linear Regression + Prediction\n",
    "\n",
    "def linear_regression(X, y):\n",
    "    X_b = np.c_[np.ones((len(X), 1)), X]\n",
    "    theta = np.linalg.inv(X_b.T @ X_b) @ X_b.T @ y\n",
    "    return theta\n",
    "\n",
    "def predict_next(X, theta):\n",
    "    next_index = np.array([[1, len(X)]])\n",
    "    return float(next_index @ theta)\n",
    "\n",
    "def forecast_return(df):\n",
    "    X = np.arange(len(df)).reshape(-1, 1)\n",
    "    y = df['Close'].values\n",
    "    theta = linear_regression(X, y)\n",
    "    pred_price = predict_next(X, theta)\n",
    "    last_price = df['Close'].values[-1]\n",
    "    ret = (pred_price - last_price) / last_price\n",
    "    return ret, pred_price, last_price"
   ]
  },
  {
   "cell_type": "code",
   "execution_count": null,
   "id": "23dcd9a2",
   "metadata": {},
   "outputs": [],
   "source": [
    "## 🔮 6. Forecast Returns\n",
    "btc_return, btc_pred, btc_last = forecast_return(btc_df)\n",
    "eth_return, eth_pred, eth_last = forecast_return(eth_df)\n",
    "gold_return, gold_pred, gold_last = forecast_return(gold_df)\n",
    "\n",
    "# Fixed bond return per month (0.55%)\n",
    "bond_return = 0.0055\n",
    "\n",
    "# Print returns\n",
    "print(\"Bitcoin return:\", btc_return)\n",
    "print(\"Ethereum return:\", eth_return)\n",
    "print(\"Gold return:\", gold_return)"
   ]
  },
  {
   "cell_type": "code",
   "execution_count": null,
   "id": "edf231ce",
   "metadata": {},
   "outputs": [],
   "source": [
    "## 📝 7. Generate .dzn File for MiniZinc\n",
    "\n",
    "def write_dzn(filename, gold_ret, crypto_ret, margin_ret, bond_ret):\n",
    "    content = f\"\"\"\n",
    "    gold_return = {gold_ret:.5f};\n",
    "    crypto_spot_return = {crypto_ret:.5f};\n",
    "    crypto_margin_return = {margin_ret:.5f};\n",
    "    bond_return = {bond_ret:.5f};\n",
    "    \"\"\"\n",
    "    Path(filename).write_text(content.strip())\n",
    "    print(f\"✅ .dzn file saved to: {filename}\")\n",
    "\n",
    "# Example: use BTC for crypto_spot and ETH for margin\n",
    "write_dzn(\"week1.dzn\", gold_return, btc_return, eth_return, bond_return)"
   ]
  }
 ],
 "metadata": {},
 "nbformat": 4,
 "nbformat_minor": 5
}