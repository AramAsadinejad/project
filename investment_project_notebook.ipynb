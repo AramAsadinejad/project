{
 "cells": [
  {
   "cell_type": "markdown",
   "id": "d25cc524",
   "metadata": {},
   "source": [
    "# 📊 Investment Forecasting & Optimization Project\n",
    "\n",
    "## 📌 1. Introduction\n",
    "This notebook implements a financial investment strategy optimization system.\n",
    "We will forecast weekly asset prices (Gold, BTC, ETH, Bonds) using linear regression,\n",
    "and make optimized investment decisions using MiniZinc."
   ]
  },
  {
   "cell_type": "code",
   "execution_count": null,
   "id": "acc8d7c8",
   "metadata": {},
   "outputs": [],
   "source": [
    "import pandas as pd\n",
    "import numpy as np\n",
    "import matplotlib.pyplot as plt\n",
    "from datetime import datetime, timedelta"
   ]
  },
  {
   "cell_type": "code",
   "execution_count": null,
   "id": "0652926a",
   "metadata": {},
   "outputs": [],
   "source": [
    "def load_and_prepare_data(filepath):\n",
    "    df = pd.read_csv(filepath, parse_dates=['Date'])\n",
    "    df = df[['Date', 'Close']].dropna()\n",
    "    df = df.set_index('Date').resample('W-MON').last().reset_index()\n",
    "    return df"
   ]
  },
  {
   "cell_type": "code",
   "execution_count": null,
   "id": "9278484d",
   "metadata": {},
   "outputs": [],
   "source": [
    "## 📈 4. Linear Regression Forecasting\n",
    "def linear_regression(X, y):\n",
    "    X_b = np.c_[np.ones((len(X), 1)), X]  # Add bias term\n",
    "    theta = np.linalg.inv(X_b.T @ X_b) @ X_b.T @ y\n",
    "    return theta\n",
    "\n",
    "def predict_next(X, theta):\n",
    "    next_index = np.array([[1, len(X)]])\n",
    "    return next_index @ theta\n",
    "\n",
    "# Example:\n",
    "# X = np.arange(len(btc_df)).reshape(-1, 1)\n",
    "# y = btc_df['Close'].values\n",
    "# theta = linear_regression(X, y)\n",
    "# pred = predict_next(X, theta)"
   ]
  },
  {
   "cell_type": "code",
   "execution_count": null,
   "id": "6914e5df",
   "metadata": {},
   "outputs": [],
   "source": [
    "## 📉 5. Plotting Forecasts\n",
    "def plot_prices(df, asset_name):\n",
    "    plt.plot(df['Date'], df['Close'], label='Close Price')\n",
    "    plt.title(f'{asset_name} Price Over Time')\n",
    "    plt.xlabel('Date')\n",
    "    plt.ylabel('Price')\n",
    "    plt.grid(True)\n",
    "    plt.legend()\n",
    "    plt.show()\n",
    "\n",
    "# Example:\n",
    "# plot_prices(btc_df, 'Bitcoin')"
   ]
  },
  {
   "cell_type": "markdown",
   "id": "50041f1c",
   "metadata": {},
   "source": [
    "## 📊 6. Optimization Using MiniZinc\n",
    "We will define:\n",
    "- A `.mzn` file containing the investment model\n",
    "- A `.dzn` file per week (or full period) with forecasted data and constraints\n",
    "- Use the MiniZinc Python API to solve it"
   ]
  },
  {
   "cell_type": "markdown",
   "id": "198408fb",
   "metadata": {},
   "source": [
    "## 📄 7. Report Generation (Optional)\n",
    "You can export this notebook as PDF or HTML via `File > Export Notebook As...`\n",
    "Include final decisions, ROI calculations, and plots here."
   ]
  }
 ],
 "metadata": {
  "kernelspec": {
   "display_name": "Python 3 (ipykernel)",
   "language": "python",
   "name": "python3"
  },
  "language_info": {
   "codemirror_mode": {
    "name": "ipython",
    "version": 3
   },
   "file_extension": ".py",
   "mimetype": "text/x-python",
   "name": "python",
   "nbconvert_exporter": "python",
   "pygments_lexer": "ipython3",
   "version": "3.12.4"
  }
 },
 "nbformat": 4,
 "nbformat_minor": 5
}
